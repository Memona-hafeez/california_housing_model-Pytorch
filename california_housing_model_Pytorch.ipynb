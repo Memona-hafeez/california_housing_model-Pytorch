{
  "nbformat": 4,
  "nbformat_minor": 0,
  "metadata": {
    "colab": {
      "provenance": []
    },
    "kernelspec": {
      "name": "python3",
      "display_name": "Python 3"
    },
    "language_info": {
      "name": "python"
    }
  },
  "cells": [
    {
      "cell_type": "code",
      "execution_count": null,
      "metadata": {
        "id": "JDz_8DdRCe9P"
      },
      "outputs": [],
      "source": [
        "import torch\n",
        "import torch.nn as nn\n",
        "import torch.optim as optim\n",
        "from sklearn.datasets import fetch_california_housing\n",
        "from sklearn.model_selection import train_test_split\n",
        "from sklearn.preprocessing import StandardScaler\n",
        "from sklearn.metrics import mean_squared_error\n",
        "import pandas as pd"
      ]
    },
    {
      "cell_type": "code",
      "source": [
        "# Load the California Housing dataset\n",
        "data = fetch_california_housing()\n",
        "X = data.data\n",
        "y = data.target"
      ],
      "metadata": {
        "id": "qMsnmKwqCm8m"
      },
      "execution_count": null,
      "outputs": []
    },
    {
      "cell_type": "code",
      "source": [
        "# Convert X and y to Pandas DataFrames\n",
        "X_df = pd.DataFrame(X, columns=data.feature_names)\n",
        "\n",
        "# Display the loaded data\n",
        "print(\"California Housing Data:\")\n",
        "print(X_df.head())"
      ],
      "metadata": {
        "colab": {
          "base_uri": "https://localhost:8080/"
        },
        "id": "9L3MfrhsCrmL",
        "outputId": "7d9ff811-2cec-4fe6-b48e-c1ebf77e515a"
      },
      "execution_count": null,
      "outputs": [
        {
          "output_type": "stream",
          "name": "stdout",
          "text": [
            "California Housing Data:\n",
            "   MedInc  HouseAge  AveRooms  AveBedrms  Population  AveOccup  Latitude  \\\n",
            "0  8.3252      41.0  6.984127   1.023810       322.0  2.555556     37.88   \n",
            "1  8.3014      21.0  6.238137   0.971880      2401.0  2.109842     37.86   \n",
            "2  7.2574      52.0  8.288136   1.073446       496.0  2.802260     37.85   \n",
            "3  5.6431      52.0  5.817352   1.073059       558.0  2.547945     37.85   \n",
            "4  3.8462      52.0  6.281853   1.081081       565.0  2.181467     37.85   \n",
            "\n",
            "   Longitude  \n",
            "0    -122.23  \n",
            "1    -122.22  \n",
            "2    -122.24  \n",
            "3    -122.25  \n",
            "4    -122.25  \n"
          ]
        }
      ]
    },
    {
      "cell_type": "code",
      "source": [
        "y_df = pd.DataFrame(y, columns=[\"target\"])\n",
        "\n",
        "print(\"\\nCalifornia Housing Target:\")\n",
        "print(y_df.head())"
      ],
      "metadata": {
        "colab": {
          "base_uri": "https://localhost:8080/"
        },
        "id": "p1y-t1OjCu9_",
        "outputId": "ccbc952c-ecae-47d7-e716-c0e4728e6639"
      },
      "execution_count": null,
      "outputs": [
        {
          "output_type": "stream",
          "name": "stdout",
          "text": [
            "\n",
            "California Housing Target:\n",
            "   target\n",
            "0   4.526\n",
            "1   3.585\n",
            "2   3.521\n",
            "3   3.413\n",
            "4   3.422\n"
          ]
        }
      ]
    },
    {
      "cell_type": "code",
      "source": [
        "# Split the dataset into training and testing sets\n",
        "X_train, X_test, y_train, y_test = train_test_split(X, y, test_size=0.2, random_state=42)"
      ],
      "metadata": {
        "id": "xAjEr0u3CzDg"
      },
      "execution_count": null,
      "outputs": []
    },
    {
      "cell_type": "code",
      "source": [
        "# Standardize the input features\n",
        "scaler = StandardScaler()\n",
        "X_train = scaler.fit_transform(X_train)\n",
        "X_test = scaler.transform(X_test)\n",
        "\n",
        "print(X_train)"
      ],
      "metadata": {
        "colab": {
          "base_uri": "https://localhost:8080/"
        },
        "id": "G52KgMLRC180",
        "outputId": "6555c1bc-62ec-40b5-d287-b390c4000340"
      },
      "execution_count": null,
      "outputs": [
        {
          "output_type": "stream",
          "name": "stdout",
          "text": [
            "[[-0.326196    0.34849025 -0.17491646 ...  0.05137609 -1.3728112\n",
            "   1.27258656]\n",
            " [-0.03584338  1.61811813 -0.40283542 ... -0.11736222 -0.87669601\n",
            "   0.70916212]\n",
            " [ 0.14470145 -1.95271028  0.08821601 ... -0.03227969 -0.46014647\n",
            "  -0.44760309]\n",
            " ...\n",
            " [-0.49697313  0.58654547 -0.60675918 ...  0.02030568 -0.75500738\n",
            "   0.59946887]\n",
            " [ 0.96545045 -1.07984112  0.40217517 ...  0.00707608  0.90651045\n",
            "  -1.18553953]\n",
            " [-0.68544764  1.85617335 -0.85144571 ... -0.08535429  0.99543676\n",
            "  -1.41489815]]\n"
          ]
        }
      ]
    },
    {
      "cell_type": "code",
      "source": [
        "# Convert data to PyTorch tensors\n",
        "X_train = torch.FloatTensor(X_train)\n",
        "y_train = torch.FloatTensor(y_train)\n",
        "X_test = torch.FloatTensor(X_test)\n",
        "y_test = torch.FloatTensor(y_test)\n",
        "\n",
        "print(X_train)"
      ],
      "metadata": {
        "colab": {
          "base_uri": "https://localhost:8080/"
        },
        "id": "HTWPuthcC4ql",
        "outputId": "7e7607b3-f694-4100-d297-1b3e31a912eb"
      },
      "execution_count": null,
      "outputs": [
        {
          "output_type": "stream",
          "name": "stdout",
          "text": [
            "tensor([[-0.3262,  0.3485, -0.1749,  ...,  0.0514, -1.3728,  1.2726],\n",
            "        [-0.0358,  1.6181, -0.4028,  ..., -0.1174, -0.8767,  0.7092],\n",
            "        [ 0.1447, -1.9527,  0.0882,  ..., -0.0323, -0.4601, -0.4476],\n",
            "        ...,\n",
            "        [-0.4970,  0.5865, -0.6068,  ...,  0.0203, -0.7550,  0.5995],\n",
            "        [ 0.9655, -1.0798,  0.4022,  ...,  0.0071,  0.9065, -1.1855],\n",
            "        [-0.6854,  1.8562, -0.8514,  ..., -0.0854,  0.9954, -1.4149]])\n"
          ]
        }
      ]
    },
    {
      "cell_type": "code",
      "source": [
        "# Define a simple regression model\n",
        "class RegressionModel(nn.Module):\n",
        "    def __init__(self, input_size):\n",
        "        super(RegressionModel, self).__init__()\n",
        "        self.fc1 = nn.Linear(input_size, 64)\n",
        "        self.relu = nn.ReLU()\n",
        "        self.fc2 = nn.Linear(64, 128)\n",
        "        self.relu = nn.ReLU()\n",
        "        self.fc3 = nn.Linear(128, 10)\n",
        "        self.relu = nn.ReLU()\n",
        "        self.fc4 = nn.Linear(10,1)\n",
        "\n",
        "    def forward(self, x):\n",
        "        x = self.fc1(x)\n",
        "        x = self.relu(x)\n",
        "        x = self.fc2(x)\n",
        "        x = self.relu(x)\n",
        "        x = self.fc3(x)\n",
        "        x = self.relu(x)\n",
        "        x = self.fc4(x)\n",
        "        return x"
      ],
      "metadata": {
        "id": "ufk4JC0MC9km"
      },
      "execution_count": null,
      "outputs": []
    },
    {
      "cell_type": "code",
      "source": [
        "# Create the model\n",
        "input_size = X_train.shape[1]\n",
        "print(input_size)\n",
        "model = RegressionModel(input_size)\n",
        "print(model)"
      ],
      "metadata": {
        "colab": {
          "base_uri": "https://localhost:8080/"
        },
        "id": "8pUMkVzbDDZg",
        "outputId": "e1c5867b-2d4c-44ae-8ad1-2a544f1a34ab"
      },
      "execution_count": null,
      "outputs": [
        {
          "output_type": "stream",
          "name": "stdout",
          "text": [
            "8\n",
            "RegressionModel(\n",
            "  (fc1): Linear(in_features=8, out_features=64, bias=True)\n",
            "  (relu): ReLU()\n",
            "  (fc2): Linear(in_features=64, out_features=128, bias=True)\n",
            "  (fc3): Linear(in_features=128, out_features=10, bias=True)\n",
            "  (fc4): Linear(in_features=10, out_features=1, bias=True)\n",
            ")\n"
          ]
        }
      ]
    },
    {
      "cell_type": "code",
      "source": [
        "# Define loss and optimizer\n",
        "Lossf = nn.MSELoss()\n",
        "optimizer = optim.SGD(model.parameters(), lr=0.001)"
      ],
      "metadata": {
        "id": "NQHAjSccDGan"
      },
      "execution_count": null,
      "outputs": []
    },
    {
      "cell_type": "code",
      "source": [
        "# Training loop\n",
        "num_epochs = 500\n",
        "for epoch in range(num_epochs):\n",
        "    # Forward pass\n",
        "    outputs = model(X_train)\n",
        "    loss = Lossf(outputs, y_train.view(-1, 1))\n",
        "\n",
        "    # Backward pass and optimization\n",
        "    optimizer.zero_grad()\n",
        "    loss.backward()\n",
        "    optimizer.step()\n",
        "\n",
        "    if (epoch + 1) % 10 == 0:\n",
        "        print(f'Epoch [{epoch+1}/{num_epochs}], Loss: {loss.item():.4f}')"
      ],
      "metadata": {
        "colab": {
          "base_uri": "https://localhost:8080/"
        },
        "id": "zH-EtmLODJxV",
        "outputId": "c00c9b6a-9dfe-4684-9640-75104237df2b"
      },
      "execution_count": null,
      "outputs": [
        {
          "output_type": "stream",
          "name": "stdout",
          "text": [
            "Epoch [10/500], Loss: 6.2811\n",
            "Epoch [20/500], Loss: 6.0057\n",
            "Epoch [30/500], Loss: 5.7281\n",
            "Epoch [40/500], Loss: 5.4568\n",
            "Epoch [50/500], Loss: 5.1922\n",
            "Epoch [60/500], Loss: 4.9334\n",
            "Epoch [70/500], Loss: 4.6796\n",
            "Epoch [80/500], Loss: 4.4300\n",
            "Epoch [90/500], Loss: 4.1843\n",
            "Epoch [100/500], Loss: 3.9424\n",
            "Epoch [110/500], Loss: 3.7046\n",
            "Epoch [120/500], Loss: 3.4717\n",
            "Epoch [130/500], Loss: 3.2446\n",
            "Epoch [140/500], Loss: 3.0248\n",
            "Epoch [150/500], Loss: 2.8137\n",
            "Epoch [160/500], Loss: 2.6133\n",
            "Epoch [170/500], Loss: 2.4253\n",
            "Epoch [180/500], Loss: 2.2514\n",
            "Epoch [190/500], Loss: 2.0927\n",
            "Epoch [200/500], Loss: 1.9502\n",
            "Epoch [210/500], Loss: 1.8241\n",
            "Epoch [220/500], Loss: 1.7139\n",
            "Epoch [230/500], Loss: 1.6184\n",
            "Epoch [240/500], Loss: 1.5364\n",
            "Epoch [250/500], Loss: 1.4662\n",
            "Epoch [260/500], Loss: 1.4060\n",
            "Epoch [270/500], Loss: 1.3541\n",
            "Epoch [280/500], Loss: 1.3091\n",
            "Epoch [290/500], Loss: 1.2694\n",
            "Epoch [300/500], Loss: 1.2341\n",
            "Epoch [310/500], Loss: 1.2023\n",
            "Epoch [320/500], Loss: 1.1732\n",
            "Epoch [330/500], Loss: 1.1465\n",
            "Epoch [340/500], Loss: 1.1215\n",
            "Epoch [350/500], Loss: 1.0981\n",
            "Epoch [360/500], Loss: 1.0760\n",
            "Epoch [370/500], Loss: 1.0550\n",
            "Epoch [380/500], Loss: 1.0350\n",
            "Epoch [390/500], Loss: 1.0159\n",
            "Epoch [400/500], Loss: 0.9976\n",
            "Epoch [410/500], Loss: 0.9801\n",
            "Epoch [420/500], Loss: 0.9632\n",
            "Epoch [430/500], Loss: 0.9471\n",
            "Epoch [440/500], Loss: 0.9315\n",
            "Epoch [450/500], Loss: 0.9166\n",
            "Epoch [460/500], Loss: 0.9024\n",
            "Epoch [470/500], Loss: 0.8887\n",
            "Epoch [480/500], Loss: 0.8756\n",
            "Epoch [490/500], Loss: 0.8631\n",
            "Epoch [500/500], Loss: 0.8511\n"
          ]
        }
      ]
    },
    {
      "cell_type": "code",
      "source": [
        "# Save the trained model\n",
        "torch.save(model.state_dict(), 'california_housing_model.pth')"
      ],
      "metadata": {
        "id": "L0yPEwENDYtF"
      },
      "execution_count": null,
      "outputs": []
    },
    {
      "cell_type": "code",
      "source": [
        "# Load the model for future use\n",
        "loaded_model = RegressionModel(input_size)\n",
        "loaded_model.load_state_dict(torch.load('california_housing_model.pth'))"
      ],
      "metadata": {
        "colab": {
          "base_uri": "https://localhost:8080/"
        },
        "id": "cw4zzKzWDgsF",
        "outputId": "70ea805a-6205-49a8-f6d5-fae2443f3696"
      },
      "execution_count": null,
      "outputs": [
        {
          "output_type": "stream",
          "name": "stderr",
          "text": [
            "<ipython-input-13-0f19b7ff74ad>:3: FutureWarning: You are using `torch.load` with `weights_only=False` (the current default value), which uses the default pickle module implicitly. It is possible to construct malicious pickle data which will execute arbitrary code during unpickling (See https://github.com/pytorch/pytorch/blob/main/SECURITY.md#untrusted-models for more details). In a future release, the default value for `weights_only` will be flipped to `True`. This limits the functions that could be executed during unpickling. Arbitrary objects will no longer be allowed to be loaded via this mode unless they are explicitly allowlisted by the user via `torch.serialization.add_safe_globals`. We recommend you start setting `weights_only=True` for any use case where you don't have full control of the loaded file. Please open an issue on GitHub for any issues related to this experimental feature.\n",
            "  loaded_model.load_state_dict(torch.load('california_housing_model.pth'))\n"
          ]
        },
        {
          "output_type": "execute_result",
          "data": {
            "text/plain": [
              "<All keys matched successfully>"
            ]
          },
          "metadata": {},
          "execution_count": 13
        }
      ]
    },
    {
      "cell_type": "code",
      "source": [
        "# Evaluate the loaded model on the test set\n",
        "with torch.no_grad():\n",
        "    y_pred = loaded_model(X_test)\n",
        "    mse = mean_squared_error(y_test.numpy(), y_pred.numpy())\n",
        "    print(f'Mean Squared Error on Test Data (Loaded Model): {mse:.4f}')"
      ],
      "metadata": {
        "colab": {
          "base_uri": "https://localhost:8080/"
        },
        "id": "wDnzAEecDjsG",
        "outputId": "31029bf7-c1ae-45d4-ea76-0e9aa940d419"
      },
      "execution_count": null,
      "outputs": [
        {
          "output_type": "stream",
          "name": "stdout",
          "text": [
            "Mean Squared Error on Test Data (Loaded Model): 0.8604\n"
          ]
        }
      ]
    },
    {
      "cell_type": "code",
      "source": [
        "# Save the trained model\n",
        "torch.save(model.state_dict(), 'california_housing_model.pth')\n",
        "\n",
        "# Download the model file to your local system\n",
        "from google.colab import files\n",
        "files.download('california_housing_model.pth')\n"
      ],
      "metadata": {
        "id": "XQh0H1siDm3C",
        "colab": {
          "base_uri": "https://localhost:8080/",
          "height": 17
        },
        "outputId": "b781c2aa-73fd-4129-a77e-40f30d4e70d4"
      },
      "execution_count": null,
      "outputs": [
        {
          "output_type": "display_data",
          "data": {
            "text/plain": [
              "<IPython.core.display.Javascript object>"
            ],
            "application/javascript": [
              "\n",
              "    async function download(id, filename, size) {\n",
              "      if (!google.colab.kernel.accessAllowed) {\n",
              "        return;\n",
              "      }\n",
              "      const div = document.createElement('div');\n",
              "      const label = document.createElement('label');\n",
              "      label.textContent = `Downloading \"${filename}\": `;\n",
              "      div.appendChild(label);\n",
              "      const progress = document.createElement('progress');\n",
              "      progress.max = size;\n",
              "      div.appendChild(progress);\n",
              "      document.body.appendChild(div);\n",
              "\n",
              "      const buffers = [];\n",
              "      let downloaded = 0;\n",
              "\n",
              "      const channel = await google.colab.kernel.comms.open(id);\n",
              "      // Send a message to notify the kernel that we're ready.\n",
              "      channel.send({})\n",
              "\n",
              "      for await (const message of channel.messages) {\n",
              "        // Send a message to notify the kernel that we're ready.\n",
              "        channel.send({})\n",
              "        if (message.buffers) {\n",
              "          for (const buffer of message.buffers) {\n",
              "            buffers.push(buffer);\n",
              "            downloaded += buffer.byteLength;\n",
              "            progress.value = downloaded;\n",
              "          }\n",
              "        }\n",
              "      }\n",
              "      const blob = new Blob(buffers, {type: 'application/binary'});\n",
              "      const a = document.createElement('a');\n",
              "      a.href = window.URL.createObjectURL(blob);\n",
              "      a.download = filename;\n",
              "      div.appendChild(a);\n",
              "      a.click();\n",
              "      div.remove();\n",
              "    }\n",
              "  "
            ]
          },
          "metadata": {}
        },
        {
          "output_type": "display_data",
          "data": {
            "text/plain": [
              "<IPython.core.display.Javascript object>"
            ],
            "application/javascript": [
              "download(\"download_c2d126a7-a1e3-41df-8a82-927266f1d283\", \"california_housing_model.pth\", 44108)"
            ]
          },
          "metadata": {}
        }
      ]
    },
    {
      "cell_type": "code",
      "source": [],
      "metadata": {
        "id": "CjgwIm7jC6vE"
      },
      "execution_count": null,
      "outputs": []
    }
  ]
}